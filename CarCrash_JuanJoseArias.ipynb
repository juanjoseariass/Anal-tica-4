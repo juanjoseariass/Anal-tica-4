{
  "nbformat": 4,
  "nbformat_minor": 0,
  "metadata": {
    "colab": {
      "provenance": [],
      "include_colab_link": true
    },
    "kernelspec": {
      "name": "python3",
      "display_name": "Python 3"
    },
    "language_info": {
      "name": "python"
    }
  },
  "cells": [
    {
      "cell_type": "markdown",
      "metadata": {
        "id": "view-in-github",
        "colab_type": "text"
      },
      "source": [
        "<a href=\"https://colab.research.google.com/github/juanjoseariass/Anal-tica-4/blob/main/CarCrash_JuanJoseArias.ipynb\" target=\"_parent\"><img src=\"https://colab.research.google.com/assets/colab-badge.svg\" alt=\"Open In Colab\"/></a>"
      ]
    },
    {
      "cell_type": "code",
      "execution_count": null,
      "metadata": {
        "id": "DB9u1_diB6bx"
      },
      "outputs": [],
      "source": [
        "import numpy as np\n",
        "import pandas as pd"
      ]
    },
    {
      "cell_type": "code",
      "source": [
        "route = '/1. BD2_CarCrash_Int.xlsx'\n",
        "datacar = pd.read_excel(route)\n",
        "\n",
        "# Variables de interés\n",
        "variables = datacar[datacar.columns[3:]]\n",
        "variables = variables.drop(\"Severity\", axis = 1)"
      ],
      "metadata": {
        "id": "tzBy7xW0CQAq"
      },
      "execution_count": null,
      "outputs": []
    },
    {
      "cell_type": "code",
      "source": [
        "# Convertir la columna a tipo 'category'\n",
        "variables['CrashType'] = variables['CrashType'].astype('category')\n",
        "\n",
        "# Crear una nueva columna con los códigos numéricos de cada categoría\n",
        "variables['CrashType'] = variables['CrashType'].cat.codes"
      ],
      "metadata": {
        "id": "2HyskBpDHuFu"
      },
      "execution_count": null,
      "outputs": []
    },
    {
      "cell_type": "code",
      "source": [
        "variables = variables.dropna() # Eliminar datos faltantes\n",
        "\n",
        "print(\"Hay en total\", len(variables), \"datos\")\n",
        "\n",
        "X = variables.drop(\"Highway\", axis = 1) # Variables entrada\n",
        "Y = variables[\"Highway\"] # Variable de salida"
      ],
      "metadata": {
        "colab": {
          "base_uri": "https://localhost:8080/"
        },
        "id": "YNhpumgpEFeC",
        "outputId": "dfd91855-e8a5-463d-f00f-01ed1f787dea"
      },
      "execution_count": null,
      "outputs": [
        {
          "output_type": "stream",
          "name": "stdout",
          "text": [
            "Hay en total 112660 datos\n"
          ]
        }
      ]
    },
    {
      "cell_type": "code",
      "source": [
        "from sklearn.naive_bayes import GaussianNB\n",
        "\n",
        "# Porcentaje de cada categoria de clasificación\n",
        "print(X[\"Weekday\"].value_counts(normalize=True)*100)\n",
        "print(X[\"ViolCat\"].value_counts(normalize=True)*100)\n",
        "print(X[\"ClearWeather\"].value_counts(normalize=True)*100)\n",
        "print(X[\"Month\"].value_counts(normalize=True)*100)\n",
        "print(X[\"Daylight\"].value_counts(normalize=True)*100)\n",
        "print(Y.value_counts(normalize=True)*100)"
      ],
      "metadata": {
        "colab": {
          "base_uri": "https://localhost:8080/"
        },
        "id": "Ech7dNj3FAyJ",
        "outputId": "7d7e1c46-4145-4381-c3c4-71f58c9386f9"
      },
      "execution_count": null,
      "outputs": [
        {
          "output_type": "stream",
          "name": "stdout",
          "text": [
            "Weekday\n",
            "5    16.566661\n",
            "4    15.134919\n",
            "3    14.705308\n",
            "2    14.662702\n",
            "1    14.115036\n",
            "6    13.594887\n",
            "7    11.220486\n",
            "Name: proportion, dtype: float64\n",
            "ViolCat\n",
            "3     35.230783\n",
            "9     17.581218\n",
            "8     15.256524\n",
            "1      8.834546\n",
            "12     8.649032\n",
            "7      4.652050\n",
            "10     3.235399\n",
            "11     3.096041\n",
            "4      2.781821\n",
            "6      0.678147\n",
            "24     0.004438\n",
            "Name: proportion, dtype: float64\n",
            "ClearWeather\n",
            "1    88.413811\n",
            "0    11.586189\n",
            "Name: proportion, dtype: float64\n",
            "Month\n",
            "10    9.148766\n",
            "5     9.126576\n",
            "3     8.967690\n",
            "9     8.808805\n",
            "8     8.807918\n",
            "4     8.595775\n",
            "6     8.552281\n",
            "11    8.414699\n",
            "12    8.236286\n",
            "7     8.220309\n",
            "1     6.753950\n",
            "2     6.366945\n",
            "Name: proportion, dtype: float64\n",
            "Daylight\n",
            "1    69.468312\n",
            "0    30.531688\n",
            "Name: proportion, dtype: float64\n",
            "Highway\n",
            "0    71.48855\n",
            "1    28.51145\n",
            "Name: proportion, dtype: float64\n"
          ]
        }
      ]
    },
    {
      "cell_type": "code",
      "source": [
        "from sklearn.naive_bayes import GaussianNB\n",
        "\n",
        "mnb=GaussianNB()\n",
        "mnb.fit(X,Y)\n",
        "\n",
        "# Media y desviación estándar de X\n",
        "u=mnb.theta_\n",
        "\n",
        "std=mnb.var_\n",
        "std=np.sqrt(std)\n",
        "\n",
        "#Se identifican los valores superiores e inferiores del día de la semana\n",
        "print(\"El intervalo de la primera categoria de weekend es \\n\",u[0,0]+std[0,0], u[0,0]-std[0,0] )\n",
        "print(\"El intervalo de la segunda categoria de weekend es \\n\",u[1,0]+std[1,0], u[1,0]-std[1,0] )\n",
        "\n",
        "#Se identifican los valores superiores e inferiores de ViolCat\n",
        "print(\"El intervalo de la primera categoria de ViolCat \\n\",u[0,1]+std[0,1], u[0,1]-std[0,1] )\n",
        "print(\"El intervalo de la segunda categoria de ViolCat \\n\",u[1,1]+std[1,1], u[1,1]-std[1,1] )\n",
        "\n",
        "#Se identifican los valores superiores e inferiores de CrashType\n",
        "print(\"El intervalo de la primera categoria de CrashType \\n\",u[0,4]+std[0,4], u[0,4]-std[0,4] )\n",
        "print(\"El intervalo de la segunda categoria de CrashType \\n\",u[1,4]+std[1,4], u[1,4]-std[1,4] )"
      ],
      "metadata": {
        "colab": {
          "base_uri": "https://localhost:8080/"
        },
        "id": "-0_FKY9lGuj_",
        "outputId": "ce52ba8a-60fd-40ae-b7e8-85089446d352"
      },
      "execution_count": null,
      "outputs": [
        {
          "output_type": "stream",
          "name": "stdout",
          "text": [
            "El intervalo de la primera categoria de weekend es \n",
            " 5.836207567798608 1.9699484559911082\n",
            "El intervalo de la segunda categoria de weekend es \n",
            " 5.841964182353724 2.015699028629744\n",
            "El intervalo de la primera categoria de ViolCat \n",
            " 10.39648944867372 3.1928026955048776\n",
            "El intervalo de la segunda categoria de ViolCat \n",
            " 6.934286170438859 1.9839915917727788\n",
            "El intervalo de la primera categoria de CrashType \n",
            " 4.302080458801573 1.3152477921079242\n",
            "El intervalo de la segunda categoria de CrashType \n",
            " 3.6988426579939313 1.2992582728612723\n"
          ]
        }
      ]
    },
    {
      "cell_type": "code",
      "source": [
        "ydp=mnb.predict(X)  #Hazme el pronóstico de los positivos y negativos.\n",
        "from sklearn.metrics import confusion_matrix\n",
        "cm=confusion_matrix(Y,ydp)\n",
        "print(cm)\n",
        "\n",
        "VN=cm[0,0];FP=cm[0,1];FN=cm[1,0];VP=cm[1,1]\n",
        "\n",
        "Ex=((VN+VP)/(VN+VP+FN+FP))*100\n",
        "print(\"La exactitud del modelo es del:\",Ex)\n",
        "\n",
        "TE=((FN+FP)/(VN+VP+FN+FP))*100\n",
        "print(\"La tasa de error del modelo es del;\",TE)\n",
        "\n",
        "Sen=(VP/(VP+FN))*100\n",
        "print(\"La sensibilidad del modelo es del:\",Sen)\n",
        "\n",
        "Esp=(VN/(VN+FP))*100\n",
        "print(\"La especificidad del modelo es del:\",Esp)\n",
        "\n",
        "Pre=(VP/(VP+FP))*100\n",
        "print(\"La precisión del modelo es del:\",Pre)\n",
        "\n",
        "Pren=(VN/(VN+FN))*100\n",
        "print(\"La precisión negativa del modelo es del:\",Pren)"
      ],
      "metadata": {
        "colab": {
          "base_uri": "https://localhost:8080/"
        },
        "id": "gFh2y1W4P7eU",
        "outputId": "5d495c60-c66b-4513-b0ad-33386700a2c4"
      },
      "execution_count": null,
      "outputs": [
        {
          "output_type": "stream",
          "name": "stdout",
          "text": [
            "[[69410 11129]\n",
            " [21498 10623]]\n",
            "La exactitud del modelo es del: 71.03941061601277\n",
            "La tasa de error del modelo es del; 28.960589383987216\n",
            "La sensibilidad del modelo es del: 33.07182217241057\n",
            "La especificidad del modelo es del: 86.18184978705969\n",
            "La precisión del modelo es del: 48.836888561971314\n",
            "La precisión negativa del modelo es del: 76.35191622299467\n"
          ]
        }
      ]
    },
    {
      "cell_type": "code",
      "source": [
        "# Predicción\n",
        "XS = [[5,1,1,3,4,0]]\n",
        "mnb.predict(XS)"
      ],
      "metadata": {
        "colab": {
          "base_uri": "https://localhost:8080/"
        },
        "id": "4ijWe-sASNex",
        "outputId": "c61ba8a1-f67b-4abb-f39a-21f790740cfe"
      },
      "execution_count": null,
      "outputs": [
        {
          "output_type": "stream",
          "name": "stderr",
          "text": [
            "/usr/local/lib/python3.11/dist-packages/sklearn/utils/validation.py:2739: UserWarning: X does not have valid feature names, but GaussianNB was fitted with feature names\n",
            "  warnings.warn(\n"
          ]
        },
        {
          "output_type": "execute_result",
          "data": {
            "text/plain": [
              "array([0])"
            ]
          },
          "metadata": {},
          "execution_count": 10
        }
      ]
    }
  ]
}