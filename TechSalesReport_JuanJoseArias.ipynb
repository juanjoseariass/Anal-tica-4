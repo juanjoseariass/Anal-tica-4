{
  "nbformat": 4,
  "nbformat_minor": 0,
  "metadata": {
    "colab": {
      "provenance": [],
      "authorship_tag": "ABX9TyN3yXvQHZMBcWL2pPD/6xW0",
      "include_colab_link": true
    },
    "kernelspec": {
      "name": "python3",
      "display_name": "Python 3"
    },
    "language_info": {
      "name": "python"
    }
  },
  "cells": [
    {
      "cell_type": "markdown",
      "metadata": {
        "id": "view-in-github",
        "colab_type": "text"
      },
      "source": [
        "<a href=\"https://colab.research.google.com/github/juanjoseariass/Anal-tica-4/blob/main/TechSalesReport_JuanJoseArias.ipynb\" target=\"_parent\"><img src=\"https://colab.research.google.com/assets/colab-badge.svg\" alt=\"Open In Colab\"/></a>"
      ]
    },
    {
      "cell_type": "markdown",
      "source": [
        "# Librerías"
      ],
      "metadata": {
        "id": "dx5FprJTN3ww"
      }
    },
    {
      "cell_type": "code",
      "execution_count": null,
      "metadata": {
        "id": "aMKVkk101TJW",
        "colab": {
          "base_uri": "https://localhost:8080/"
        },
        "outputId": "a4584b8d-9451-448d-8aa7-7f9b278afd25"
      },
      "outputs": [
        {
          "output_type": "stream",
          "name": "stdout",
          "text": [
            "Drive already mounted at /content/drive; to attempt to forcibly remount, call drive.mount(\"/content/drive\", force_remount=True).\n"
          ]
        }
      ],
      "source": [
        "import numpy as np\n",
        "import pandas as pd\n",
        "\n",
        "#para implementación y evalución del modelo\n",
        "from sklearn.tree import DecisionTreeClassifier\n",
        "from sklearn.metrics import confusion_matrix\n",
        "\n",
        "#Para carga automatica de los archivos desde el drive\n",
        "from google.colab import drive\n",
        "drive.mount('/content/drive')"
      ]
    },
    {
      "cell_type": "markdown",
      "source": [
        "# Carga de Datos"
      ],
      "metadata": {
        "id": "ASXliz4VN7KN"
      }
    },
    {
      "cell_type": "code",
      "source": [
        "nxl=\"/content/drive/MyDrive/2. TechSalesReport_Int_L.xlsx\"\n",
        "XDB1=pd.read_excel(nxl,sheet_name=\"TechSales_Reps\")\n",
        "XDB = XDB1.copy()\n",
        "XDB['Business'] = XDB['Business'].replace({'Software': 1, 'Hardware': 0}) #Cambiar los valores de la columna \"Business\" por ceros y unos\n",
        "XDB['College'] = XDB['College'].replace({'Yes': 1, 'No': 0}) #Cambiar los valores de la columna \"College\" por ceros y unos\n",
        "XDB.head(100) #Solo se muestran 100 datos"
      ],
      "metadata": {
        "colab": {
          "base_uri": "https://localhost:8080/",
          "height": 513
        },
        "id": "06GrGntg3xXJ",
        "outputId": "547b32fd-40e0-4b49-c647-69f99125f964"
      },
      "execution_count": null,
      "outputs": [
        {
          "output_type": "stream",
          "name": "stderr",
          "text": [
            "<ipython-input-2-8f348e859a8b>:4: FutureWarning: Downcasting behavior in `replace` is deprecated and will be removed in a future version. To retain the old behavior, explicitly call `result.infer_objects(copy=False)`. To opt-in to the future behavior, set `pd.set_option('future.no_silent_downcasting', True)`\n",
            "  XDB['Business'] = XDB['Business'].replace({'Software': 1, 'Hardware': 0}) #Cambiar los valores de la columna \"Business\" por ceros y unos\n",
            "<ipython-input-2-8f348e859a8b>:5: FutureWarning: Downcasting behavior in `replace` is deprecated and will be removed in a future version. To retain the old behavior, explicitly call `result.infer_objects(copy=False)`. To opt-in to the future behavior, set `pd.set_option('future.no_silent_downcasting', True)`\n",
            "  XDB['College'] = XDB['College'].replace({'Yes': 1, 'No': 0}) #Cambiar los valores de la columna \"College\" por ceros y unos\n"
          ]
        },
        {
          "output_type": "execute_result",
          "data": {
            "text/plain": [
              "    Sales_Rep  Business  Age  Female  Years  College Personality  \\\n",
              "0           1         0   59       1      2        1    Diplomat   \n",
              "1           2         0   52       0     10        1    Diplomat   \n",
              "2           3         1   47       1      1        1    Explorer   \n",
              "3           4         0   61       0      2        1    Diplomat   \n",
              "4           5         1   39       0      1        0    Diplomat   \n",
              "..        ...       ...  ...     ...    ...      ...         ...   \n",
              "95         96         1   27       0      2        1     Analyst   \n",
              "96         97         0   28       0      2        1    Sentinel   \n",
              "97         98         0   46       1      1        1    Sentinel   \n",
              "98         99         0   40       0      1        0    Sentinel   \n",
              "99        100         0   56       1      5        1    Diplomat   \n",
              "\n",
              "    Certificates  Feedback  Salary  NPS  \n",
              "0              1      2.01   70200    5  \n",
              "1              4      3.64  133000   10  \n",
              "2              1      3.88   52600    8  \n",
              "3              3      2.70   96000    6  \n",
              "4              5      3.44  122000    7  \n",
              "..           ...       ...     ...  ...  \n",
              "95             4      1.58   41000    4  \n",
              "96             3      2.70   55000    4  \n",
              "97             6      3.34   86800    9  \n",
              "98             5      1.95   49000    6  \n",
              "99             4      3.43   71800    8  \n",
              "\n",
              "[100 rows x 11 columns]"
            ],
            "text/html": [
              "\n",
              "  <div id=\"df-f70d6a6d-c4a9-4538-bab5-63e2042e9aac\" class=\"colab-df-container\">\n",
              "    <div>\n",
              "<style scoped>\n",
              "    .dataframe tbody tr th:only-of-type {\n",
              "        vertical-align: middle;\n",
              "    }\n",
              "\n",
              "    .dataframe tbody tr th {\n",
              "        vertical-align: top;\n",
              "    }\n",
              "\n",
              "    .dataframe thead th {\n",
              "        text-align: right;\n",
              "    }\n",
              "</style>\n",
              "<table border=\"1\" class=\"dataframe\">\n",
              "  <thead>\n",
              "    <tr style=\"text-align: right;\">\n",
              "      <th></th>\n",
              "      <th>Sales_Rep</th>\n",
              "      <th>Business</th>\n",
              "      <th>Age</th>\n",
              "      <th>Female</th>\n",
              "      <th>Years</th>\n",
              "      <th>College</th>\n",
              "      <th>Personality</th>\n",
              "      <th>Certificates</th>\n",
              "      <th>Feedback</th>\n",
              "      <th>Salary</th>\n",
              "      <th>NPS</th>\n",
              "    </tr>\n",
              "  </thead>\n",
              "  <tbody>\n",
              "    <tr>\n",
              "      <th>0</th>\n",
              "      <td>1</td>\n",
              "      <td>0</td>\n",
              "      <td>59</td>\n",
              "      <td>1</td>\n",
              "      <td>2</td>\n",
              "      <td>1</td>\n",
              "      <td>Diplomat</td>\n",
              "      <td>1</td>\n",
              "      <td>2.01</td>\n",
              "      <td>70200</td>\n",
              "      <td>5</td>\n",
              "    </tr>\n",
              "    <tr>\n",
              "      <th>1</th>\n",
              "      <td>2</td>\n",
              "      <td>0</td>\n",
              "      <td>52</td>\n",
              "      <td>0</td>\n",
              "      <td>10</td>\n",
              "      <td>1</td>\n",
              "      <td>Diplomat</td>\n",
              "      <td>4</td>\n",
              "      <td>3.64</td>\n",
              "      <td>133000</td>\n",
              "      <td>10</td>\n",
              "    </tr>\n",
              "    <tr>\n",
              "      <th>2</th>\n",
              "      <td>3</td>\n",
              "      <td>1</td>\n",
              "      <td>47</td>\n",
              "      <td>1</td>\n",
              "      <td>1</td>\n",
              "      <td>1</td>\n",
              "      <td>Explorer</td>\n",
              "      <td>1</td>\n",
              "      <td>3.88</td>\n",
              "      <td>52600</td>\n",
              "      <td>8</td>\n",
              "    </tr>\n",
              "    <tr>\n",
              "      <th>3</th>\n",
              "      <td>4</td>\n",
              "      <td>0</td>\n",
              "      <td>61</td>\n",
              "      <td>0</td>\n",
              "      <td>2</td>\n",
              "      <td>1</td>\n",
              "      <td>Diplomat</td>\n",
              "      <td>3</td>\n",
              "      <td>2.70</td>\n",
              "      <td>96000</td>\n",
              "      <td>6</td>\n",
              "    </tr>\n",
              "    <tr>\n",
              "      <th>4</th>\n",
              "      <td>5</td>\n",
              "      <td>1</td>\n",
              "      <td>39</td>\n",
              "      <td>0</td>\n",
              "      <td>1</td>\n",
              "      <td>0</td>\n",
              "      <td>Diplomat</td>\n",
              "      <td>5</td>\n",
              "      <td>3.44</td>\n",
              "      <td>122000</td>\n",
              "      <td>7</td>\n",
              "    </tr>\n",
              "    <tr>\n",
              "      <th>...</th>\n",
              "      <td>...</td>\n",
              "      <td>...</td>\n",
              "      <td>...</td>\n",
              "      <td>...</td>\n",
              "      <td>...</td>\n",
              "      <td>...</td>\n",
              "      <td>...</td>\n",
              "      <td>...</td>\n",
              "      <td>...</td>\n",
              "      <td>...</td>\n",
              "      <td>...</td>\n",
              "    </tr>\n",
              "    <tr>\n",
              "      <th>95</th>\n",
              "      <td>96</td>\n",
              "      <td>1</td>\n",
              "      <td>27</td>\n",
              "      <td>0</td>\n",
              "      <td>2</td>\n",
              "      <td>1</td>\n",
              "      <td>Analyst</td>\n",
              "      <td>4</td>\n",
              "      <td>1.58</td>\n",
              "      <td>41000</td>\n",
              "      <td>4</td>\n",
              "    </tr>\n",
              "    <tr>\n",
              "      <th>96</th>\n",
              "      <td>97</td>\n",
              "      <td>0</td>\n",
              "      <td>28</td>\n",
              "      <td>0</td>\n",
              "      <td>2</td>\n",
              "      <td>1</td>\n",
              "      <td>Sentinel</td>\n",
              "      <td>3</td>\n",
              "      <td>2.70</td>\n",
              "      <td>55000</td>\n",
              "      <td>4</td>\n",
              "    </tr>\n",
              "    <tr>\n",
              "      <th>97</th>\n",
              "      <td>98</td>\n",
              "      <td>0</td>\n",
              "      <td>46</td>\n",
              "      <td>1</td>\n",
              "      <td>1</td>\n",
              "      <td>1</td>\n",
              "      <td>Sentinel</td>\n",
              "      <td>6</td>\n",
              "      <td>3.34</td>\n",
              "      <td>86800</td>\n",
              "      <td>9</td>\n",
              "    </tr>\n",
              "    <tr>\n",
              "      <th>98</th>\n",
              "      <td>99</td>\n",
              "      <td>0</td>\n",
              "      <td>40</td>\n",
              "      <td>0</td>\n",
              "      <td>1</td>\n",
              "      <td>0</td>\n",
              "      <td>Sentinel</td>\n",
              "      <td>5</td>\n",
              "      <td>1.95</td>\n",
              "      <td>49000</td>\n",
              "      <td>6</td>\n",
              "    </tr>\n",
              "    <tr>\n",
              "      <th>99</th>\n",
              "      <td>100</td>\n",
              "      <td>0</td>\n",
              "      <td>56</td>\n",
              "      <td>1</td>\n",
              "      <td>5</td>\n",
              "      <td>1</td>\n",
              "      <td>Diplomat</td>\n",
              "      <td>4</td>\n",
              "      <td>3.43</td>\n",
              "      <td>71800</td>\n",
              "      <td>8</td>\n",
              "    </tr>\n",
              "  </tbody>\n",
              "</table>\n",
              "<p>100 rows × 11 columns</p>\n",
              "</div>\n",
              "    <div class=\"colab-df-buttons\">\n",
              "\n",
              "  <div class=\"colab-df-container\">\n",
              "    <button class=\"colab-df-convert\" onclick=\"convertToInteractive('df-f70d6a6d-c4a9-4538-bab5-63e2042e9aac')\"\n",
              "            title=\"Convert this dataframe to an interactive table.\"\n",
              "            style=\"display:none;\">\n",
              "\n",
              "  <svg xmlns=\"http://www.w3.org/2000/svg\" height=\"24px\" viewBox=\"0 -960 960 960\">\n",
              "    <path d=\"M120-120v-720h720v720H120Zm60-500h600v-160H180v160Zm220 220h160v-160H400v160Zm0 220h160v-160H400v160ZM180-400h160v-160H180v160Zm440 0h160v-160H620v160ZM180-180h160v-160H180v160Zm440 0h160v-160H620v160Z\"/>\n",
              "  </svg>\n",
              "    </button>\n",
              "\n",
              "  <style>\n",
              "    .colab-df-container {\n",
              "      display:flex;\n",
              "      gap: 12px;\n",
              "    }\n",
              "\n",
              "    .colab-df-convert {\n",
              "      background-color: #E8F0FE;\n",
              "      border: none;\n",
              "      border-radius: 50%;\n",
              "      cursor: pointer;\n",
              "      display: none;\n",
              "      fill: #1967D2;\n",
              "      height: 32px;\n",
              "      padding: 0 0 0 0;\n",
              "      width: 32px;\n",
              "    }\n",
              "\n",
              "    .colab-df-convert:hover {\n",
              "      background-color: #E2EBFA;\n",
              "      box-shadow: 0px 1px 2px rgba(60, 64, 67, 0.3), 0px 1px 3px 1px rgba(60, 64, 67, 0.15);\n",
              "      fill: #174EA6;\n",
              "    }\n",
              "\n",
              "    .colab-df-buttons div {\n",
              "      margin-bottom: 4px;\n",
              "    }\n",
              "\n",
              "    [theme=dark] .colab-df-convert {\n",
              "      background-color: #3B4455;\n",
              "      fill: #D2E3FC;\n",
              "    }\n",
              "\n",
              "    [theme=dark] .colab-df-convert:hover {\n",
              "      background-color: #434B5C;\n",
              "      box-shadow: 0px 1px 3px 1px rgba(0, 0, 0, 0.15);\n",
              "      filter: drop-shadow(0px 1px 2px rgba(0, 0, 0, 0.3));\n",
              "      fill: #FFFFFF;\n",
              "    }\n",
              "  </style>\n",
              "\n",
              "    <script>\n",
              "      const buttonEl =\n",
              "        document.querySelector('#df-f70d6a6d-c4a9-4538-bab5-63e2042e9aac button.colab-df-convert');\n",
              "      buttonEl.style.display =\n",
              "        google.colab.kernel.accessAllowed ? 'block' : 'none';\n",
              "\n",
              "      async function convertToInteractive(key) {\n",
              "        const element = document.querySelector('#df-f70d6a6d-c4a9-4538-bab5-63e2042e9aac');\n",
              "        const dataTable =\n",
              "          await google.colab.kernel.invokeFunction('convertToInteractive',\n",
              "                                                    [key], {});\n",
              "        if (!dataTable) return;\n",
              "\n",
              "        const docLinkHtml = 'Like what you see? Visit the ' +\n",
              "          '<a target=\"_blank\" href=https://colab.research.google.com/notebooks/data_table.ipynb>data table notebook</a>'\n",
              "          + ' to learn more about interactive tables.';\n",
              "        element.innerHTML = '';\n",
              "        dataTable['output_type'] = 'display_data';\n",
              "        await google.colab.output.renderOutput(dataTable, element);\n",
              "        const docLink = document.createElement('div');\n",
              "        docLink.innerHTML = docLinkHtml;\n",
              "        element.appendChild(docLink);\n",
              "      }\n",
              "    </script>\n",
              "  </div>\n",
              "\n",
              "\n",
              "<div id=\"df-1042c300-19d9-4815-b1b6-70e57afe6593\">\n",
              "  <button class=\"colab-df-quickchart\" onclick=\"quickchart('df-1042c300-19d9-4815-b1b6-70e57afe6593')\"\n",
              "            title=\"Suggest charts\"\n",
              "            style=\"display:none;\">\n",
              "\n",
              "<svg xmlns=\"http://www.w3.org/2000/svg\" height=\"24px\"viewBox=\"0 0 24 24\"\n",
              "     width=\"24px\">\n",
              "    <g>\n",
              "        <path d=\"M19 3H5c-1.1 0-2 .9-2 2v14c0 1.1.9 2 2 2h14c1.1 0 2-.9 2-2V5c0-1.1-.9-2-2-2zM9 17H7v-7h2v7zm4 0h-2V7h2v10zm4 0h-2v-4h2v4z\"/>\n",
              "    </g>\n",
              "</svg>\n",
              "  </button>\n",
              "\n",
              "<style>\n",
              "  .colab-df-quickchart {\n",
              "      --bg-color: #E8F0FE;\n",
              "      --fill-color: #1967D2;\n",
              "      --hover-bg-color: #E2EBFA;\n",
              "      --hover-fill-color: #174EA6;\n",
              "      --disabled-fill-color: #AAA;\n",
              "      --disabled-bg-color: #DDD;\n",
              "  }\n",
              "\n",
              "  [theme=dark] .colab-df-quickchart {\n",
              "      --bg-color: #3B4455;\n",
              "      --fill-color: #D2E3FC;\n",
              "      --hover-bg-color: #434B5C;\n",
              "      --hover-fill-color: #FFFFFF;\n",
              "      --disabled-bg-color: #3B4455;\n",
              "      --disabled-fill-color: #666;\n",
              "  }\n",
              "\n",
              "  .colab-df-quickchart {\n",
              "    background-color: var(--bg-color);\n",
              "    border: none;\n",
              "    border-radius: 50%;\n",
              "    cursor: pointer;\n",
              "    display: none;\n",
              "    fill: var(--fill-color);\n",
              "    height: 32px;\n",
              "    padding: 0;\n",
              "    width: 32px;\n",
              "  }\n",
              "\n",
              "  .colab-df-quickchart:hover {\n",
              "    background-color: var(--hover-bg-color);\n",
              "    box-shadow: 0 1px 2px rgba(60, 64, 67, 0.3), 0 1px 3px 1px rgba(60, 64, 67, 0.15);\n",
              "    fill: var(--button-hover-fill-color);\n",
              "  }\n",
              "\n",
              "  .colab-df-quickchart-complete:disabled,\n",
              "  .colab-df-quickchart-complete:disabled:hover {\n",
              "    background-color: var(--disabled-bg-color);\n",
              "    fill: var(--disabled-fill-color);\n",
              "    box-shadow: none;\n",
              "  }\n",
              "\n",
              "  .colab-df-spinner {\n",
              "    border: 2px solid var(--fill-color);\n",
              "    border-color: transparent;\n",
              "    border-bottom-color: var(--fill-color);\n",
              "    animation:\n",
              "      spin 1s steps(1) infinite;\n",
              "  }\n",
              "\n",
              "  @keyframes spin {\n",
              "    0% {\n",
              "      border-color: transparent;\n",
              "      border-bottom-color: var(--fill-color);\n",
              "      border-left-color: var(--fill-color);\n",
              "    }\n",
              "    20% {\n",
              "      border-color: transparent;\n",
              "      border-left-color: var(--fill-color);\n",
              "      border-top-color: var(--fill-color);\n",
              "    }\n",
              "    30% {\n",
              "      border-color: transparent;\n",
              "      border-left-color: var(--fill-color);\n",
              "      border-top-color: var(--fill-color);\n",
              "      border-right-color: var(--fill-color);\n",
              "    }\n",
              "    40% {\n",
              "      border-color: transparent;\n",
              "      border-right-color: var(--fill-color);\n",
              "      border-top-color: var(--fill-color);\n",
              "    }\n",
              "    60% {\n",
              "      border-color: transparent;\n",
              "      border-right-color: var(--fill-color);\n",
              "    }\n",
              "    80% {\n",
              "      border-color: transparent;\n",
              "      border-right-color: var(--fill-color);\n",
              "      border-bottom-color: var(--fill-color);\n",
              "    }\n",
              "    90% {\n",
              "      border-color: transparent;\n",
              "      border-bottom-color: var(--fill-color);\n",
              "    }\n",
              "  }\n",
              "</style>\n",
              "\n",
              "  <script>\n",
              "    async function quickchart(key) {\n",
              "      const quickchartButtonEl =\n",
              "        document.querySelector('#' + key + ' button');\n",
              "      quickchartButtonEl.disabled = true;  // To prevent multiple clicks.\n",
              "      quickchartButtonEl.classList.add('colab-df-spinner');\n",
              "      try {\n",
              "        const charts = await google.colab.kernel.invokeFunction(\n",
              "            'suggestCharts', [key], {});\n",
              "      } catch (error) {\n",
              "        console.error('Error during call to suggestCharts:', error);\n",
              "      }\n",
              "      quickchartButtonEl.classList.remove('colab-df-spinner');\n",
              "      quickchartButtonEl.classList.add('colab-df-quickchart-complete');\n",
              "    }\n",
              "    (() => {\n",
              "      let quickchartButtonEl =\n",
              "        document.querySelector('#df-1042c300-19d9-4815-b1b6-70e57afe6593 button');\n",
              "      quickchartButtonEl.style.display =\n",
              "        google.colab.kernel.accessAllowed ? 'block' : 'none';\n",
              "    })();\n",
              "  </script>\n",
              "</div>\n",
              "\n",
              "    </div>\n",
              "  </div>\n"
            ],
            "application/vnd.google.colaboratory.intrinsic+json": {
              "type": "dataframe",
              "variable_name": "XDB",
              "summary": "{\n  \"name\": \"XDB\",\n  \"rows\": 21990,\n  \"fields\": [\n    {\n      \"column\": \"Sales_Rep\",\n      \"properties\": {\n        \"dtype\": \"number\",\n        \"std\": 6348,\n        \"min\": 1,\n        \"max\": 21990,\n        \"num_unique_values\": 21990,\n        \"samples\": [\n          21120,\n          4292,\n          17979\n        ],\n        \"semantic_type\": \"\",\n        \"description\": \"\"\n      }\n    },\n    {\n      \"column\": \"Business\",\n      \"properties\": {\n        \"dtype\": \"number\",\n        \"std\": 0,\n        \"min\": 0,\n        \"max\": 1,\n        \"num_unique_values\": 2,\n        \"samples\": [\n          1,\n          0\n        ],\n        \"semantic_type\": \"\",\n        \"description\": \"\"\n      }\n    },\n    {\n      \"column\": \"Age\",\n      \"properties\": {\n        \"dtype\": \"number\",\n        \"std\": 11,\n        \"min\": 21,\n        \"max\": 65,\n        \"num_unique_values\": 45,\n        \"samples\": [\n          60,\n          42\n        ],\n        \"semantic_type\": \"\",\n        \"description\": \"\"\n      }\n    },\n    {\n      \"column\": \"Female\",\n      \"properties\": {\n        \"dtype\": \"number\",\n        \"std\": 0,\n        \"min\": 0,\n        \"max\": 1,\n        \"num_unique_values\": 2,\n        \"samples\": [\n          0,\n          1\n        ],\n        \"semantic_type\": \"\",\n        \"description\": \"\"\n      }\n    },\n    {\n      \"column\": \"Years\",\n      \"properties\": {\n        \"dtype\": \"number\",\n        \"std\": 2,\n        \"min\": 1,\n        \"max\": 13,\n        \"num_unique_values\": 13,\n        \"samples\": [\n          12,\n          5\n        ],\n        \"semantic_type\": \"\",\n        \"description\": \"\"\n      }\n    },\n    {\n      \"column\": \"College\",\n      \"properties\": {\n        \"dtype\": \"number\",\n        \"std\": 0,\n        \"min\": 0,\n        \"max\": 1,\n        \"num_unique_values\": 2,\n        \"samples\": [\n          0,\n          1\n        ],\n        \"semantic_type\": \"\",\n        \"description\": \"\"\n      }\n    },\n    {\n      \"column\": \"Personality\",\n      \"properties\": {\n        \"dtype\": \"category\",\n        \"num_unique_values\": 4,\n        \"samples\": [\n          \"Explorer\",\n          \"Analyst\"\n        ],\n        \"semantic_type\": \"\",\n        \"description\": \"\"\n      }\n    },\n    {\n      \"column\": \"Certificates\",\n      \"properties\": {\n        \"dtype\": \"number\",\n        \"std\": 1,\n        \"min\": 0,\n        \"max\": 6,\n        \"num_unique_values\": 7,\n        \"samples\": [\n          1,\n          4\n        ],\n        \"semantic_type\": \"\",\n        \"description\": \"\"\n      }\n    },\n    {\n      \"column\": \"Feedback\",\n      \"properties\": {\n        \"dtype\": \"number\",\n        \"std\": 0.8367702957801468,\n        \"min\": 1.08,\n        \"max\": 4.0,\n        \"num_unique_values\": 491,\n        \"samples\": [\n          1.7599999999999998,\n          1.96\n        ],\n        \"semantic_type\": \"\",\n        \"description\": \"\"\n      }\n    },\n    {\n      \"column\": \"Salary\",\n      \"properties\": {\n        \"dtype\": \"number\",\n        \"std\": 22769,\n        \"min\": 21000,\n        \"max\": 197000,\n        \"num_unique_values\": 596,\n        \"samples\": [\n          28000,\n          72600\n        ],\n        \"semantic_type\": \"\",\n        \"description\": \"\"\n      }\n    },\n    {\n      \"column\": \"NPS\",\n      \"properties\": {\n        \"dtype\": \"number\",\n        \"std\": 2,\n        \"min\": 1,\n        \"max\": 10,\n        \"num_unique_values\": 10,\n        \"samples\": [\n          2,\n          10\n        ],\n        \"semantic_type\": \"\",\n        \"description\": \"\"\n      }\n    }\n  ]\n}"
            }
          },
          "metadata": {},
          "execution_count": 2
        }
      ]
    },
    {
      "cell_type": "markdown",
      "source": [
        "# Descripción de Variables"
      ],
      "metadata": {
        "id": "V6T4eKZdOKEc"
      }
    },
    {
      "cell_type": "markdown",
      "source": [
        "**Business**: Tipo de negocio en el que trabaja el empleado, con valores \"Software\" o \"Hardware\".\\\n",
        "**Age**: Edad del empleado en años.\\\n",
        "**Female**: Indicador binario de género (1 = mujer, 0 = hombre).\\\n",
        "**Years**: Años de experiencia del empleado en la empresa.\\\n",
        "**College**: Indica si el empleado asistió a la universidad (\"Yes\" para sí, \"No\" para no).\\\n",
        "**Certificates**: Número de certificaciones obtenidas por el empleado.\\\n",
        "**Feedback**: Calificación de retroalimentación recibida, representada con valores decimales.\\\n",
        "**Salary**: Salario anual del empleado (probablemente en dólares).\\\n",
        "**NPS**: Net Promoter Score, una métrica de satisfacción y lealtad del cliente, en una escala de 0 a 10.\n"
      ],
      "metadata": {
        "id": "oYgg5s0cPsd_"
      }
    },
    {
      "cell_type": "markdown",
      "source": [
        "# Caracterización de la Base de Datos"
      ],
      "metadata": {
        "id": "_PPPsb5KGnLO"
      }
    },
    {
      "cell_type": "code",
      "source": [
        "total_registros = len(XDB1)\n",
        "print(\"Total de personas:\", total_registros)\n",
        "valores = XDB1['College'].value_counts()\n",
        "print(\"Personas con título universitario:\", valores.iloc[0])\n",
        "print(\"Personas sin título universitario:\", valores.iloc[1])"
      ],
      "metadata": {
        "colab": {
          "base_uri": "https://localhost:8080/"
        },
        "id": "XZyTDKlTGg0R",
        "outputId": "31f09b15-9ecb-4db4-f7b9-77b3d3cf23fd"
      },
      "execution_count": null,
      "outputs": [
        {
          "output_type": "stream",
          "name": "stdout",
          "text": [
            "Total de personas: 21990\n",
            "Personas con título universitario: 17520\n",
            "Personas sin título universitario: 4470\n"
          ]
        }
      ]
    },
    {
      "cell_type": "markdown",
      "source": [
        "# Estructura del Árbol de Decisión"
      ],
      "metadata": {
        "id": "7QiKdBK-_R7c"
      }
    },
    {
      "cell_type": "code",
      "source": [
        "XD=XDB[['Business','Age','Female','Years','Certificates','Feedback','Salary','NPS']]\n",
        "yd=XDB[['College']]\n",
        "mar=DecisionTreeClassifier(criterion='gini',max_depth=4)\n",
        "mar.fit(XD,yd)\n",
        "\n",
        "#Se procede con el despliegue del árbol\n",
        "from sklearn.tree import export_graphviz #Exportar\n",
        "from pydotplus import graph_from_dot_data #Crear gráfico\n",
        "\n",
        "vs=['Business','Age','Female','Years','Certificates','Feedback','Salary','NPS']\n",
        "\n",
        "dot_data=export_graphviz(mar,feature_names=vs)\n",
        "graph=graph_from_dot_data(dot_data)\n",
        "graph.write_png('1. ArbolCollege.png')\n",
        "\n",
        "tree = mar.tree_\n",
        "nodos_hoja = np.where(tree.children_left == -1)[0]\n",
        "nodos_puros = sum(tree.impurity[nodo] == 0 for nodo in nodos_hoja)\n",
        "\n",
        "print(f\"Número de nodos puros: {nodos_puros}\")"
      ],
      "metadata": {
        "colab": {
          "base_uri": "https://localhost:8080/"
        },
        "id": "lW-bueVK88qM",
        "outputId": "743ec0a7-8249-4381-84cc-b15e348c0dd5"
      },
      "execution_count": null,
      "outputs": [
        {
          "output_type": "stream",
          "name": "stdout",
          "text": [
            "Número de nodos puros: 0\n"
          ]
        }
      ]
    },
    {
      "cell_type": "markdown",
      "source": [
        "# Desempeño del Modelo"
      ],
      "metadata": {
        "id": "CLyWAo_f_gqz"
      }
    },
    {
      "cell_type": "code",
      "source": [
        "ydp=mar.predict(XD)\n",
        "cm=confusion_matrix(yd,ydp)\n",
        "print(cm)\n",
        "\n",
        "\n",
        "VN=cm[0,0]; FP=cm[0,1]; FN=cm[1,0]; VP=cm[1,1]\n",
        "\n",
        "Exactitud=(VP+VN)/(VP+VN+FP+FN) #Funcionamiento general del modelo\n",
        "print('Exactitud:',Exactitud)\n",
        "Sensibilidad=VP/(VP+FN) #Cómo se comportó el modelo con los que poseen título universitario\n",
        "print('Sensibilidad:',Sensibilidad)\n",
        "Especificidad=VN/(VN+FP) #Cómo se comportó el modelo con los que no poseen título universitario\n",
        "print('Especificidad:',Especificidad)\n",
        "Precision=VP/(VP+FP) #Cuál es el acierto clasificando los que poseen título universitario\n",
        "print('Precision:',Precision)\n",
        "TasaError=(FP+FN)/(VP+VN+FP+FN) #Equivocación general\n",
        "print('TasaError:',TasaError)\n",
        "PredNeg=VN/(VN+FN) #Cómo funciona el modelo prediciendo que los empleados no poseen título universitario\n",
        "print('NoCollege:',PredNeg)"
      ],
      "metadata": {
        "colab": {
          "base_uri": "https://localhost:8080/"
        },
        "id": "68EG6Ycx_Ncs",
        "outputId": "89b89a5e-e172-4e1c-981e-4309bb823feb"
      },
      "execution_count": null,
      "outputs": [
        {
          "output_type": "stream",
          "name": "stdout",
          "text": [
            "[[  114  4356]\n",
            " [   69 17451]]\n",
            "Exactitud: 0.7987721691678036\n",
            "Sensibilidad: 0.9960616438356165\n",
            "Especificidad: 0.025503355704697986\n",
            "Precision: 0.8002476269087908\n",
            "TasaError: 0.20122783083219645\n",
            "NoCollege: 0.6229508196721312\n"
          ]
        }
      ]
    },
    {
      "cell_type": "markdown",
      "source": [
        "# Pronóstico"
      ],
      "metadata": {
        "id": "BXhK2H_5KFES"
      }
    },
    {
      "cell_type": "code",
      "source": [
        "#Se toma la totalidad de los solicitante\n",
        "XDB2=pd.read_excel(nxl,sheet_name=\"Pronóstico\")\n",
        "XDB3 = XDB2.copy()\n",
        "XDB3['Business'] = XDB3['Business'].replace({'Software': 1, 'Hardware': 0}) #Cambiar los valores de la columna \"Business\" por ceros y unos\n",
        "\n",
        "#Se hace el propósito de la PreApr para estas personas\n",
        "XD2=XDB3[['Business','Age','Female','Years','Certificates','Feedback','Salary','NPS']]\n",
        "\n",
        "#Se hace el pronostico para estas personas\n",
        "ydp2=mar.predict(XD2)\n",
        "print(\"Los pronósticos del título universitario para las personas de la base de datos de pronóstico son:\\n\",ydp2)\n",
        "\n",
        "#crear el informe con la PreApr\n",
        "dfp=pd.DataFrame(np.column_stack((XD2,ydp2)))\n",
        "dfp.columns=['Business','Age','Female','Years','Certificates','Feedback','Salary','NPS','College']\n",
        "dfp.to_excel('PronósticoCollege.xlsx')\n",
        "\n",
        "print(\"Los pronosticados sin título universitario son:\",len(np.where((ydp2==0))[0]))\n",
        "print(\"Los pronosticados con título universitario son:\",len(np.where((ydp2==1))[0]))"
      ],
      "metadata": {
        "colab": {
          "base_uri": "https://localhost:8080/"
        },
        "id": "fmO5OpJcKJDz",
        "outputId": "95ffd1c4-2ec1-4522-e6bd-351d772c77c2"
      },
      "execution_count": null,
      "outputs": [
        {
          "output_type": "stream",
          "name": "stdout",
          "text": [
            "Los pronósticos del título universitario para las personas de la base de datos de pronóstico son:\n",
            " [1 1 1 1 1 1 1 1 1 1 1 1 1 1 1 1]\n",
            "Los pronosticados sin título universitario son: 0\n",
            "Los pronosticados con título universitario son: 16\n"
          ]
        },
        {
          "output_type": "stream",
          "name": "stderr",
          "text": [
            "<ipython-input-12-17d03692d359>:4: FutureWarning: Downcasting behavior in `replace` is deprecated and will be removed in a future version. To retain the old behavior, explicitly call `result.infer_objects(copy=False)`. To opt-in to the future behavior, set `pd.set_option('future.no_silent_downcasting', True)`\n",
            "  XDB3['Business'] = XDB3['Business'].replace({'Software': 1, 'Hardware': 0}) #Cambiar los valores de la columna \"Business\" por ceros y unos\n"
          ]
        }
      ]
    }
  ]
}